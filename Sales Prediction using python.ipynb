{
 "cells": [
  {
   "cell_type": "code",
   "execution_count": 19,
   "id": "dfcf59ab",
   "metadata": {},
   "outputs": [],
   "source": [
    "#Kavali Shreeya\n",
    "#Sales Prediction using python\n",
    "import pandas as pd\n",
    "import numpy as np\n",
    "import matplotlib.pyplot as plt\n",
    "import seaborn as sns\n",
    "from sklearn.model_selection import train_test_split\n",
    "from sklearn.linear_model import LinearRegression"
   ]
  },
  {
   "cell_type": "code",
   "execution_count": 15,
   "id": "9c56f00e",
   "metadata": {},
   "outputs": [],
   "source": [
    "#let’s start the task of sales prediction with machine learning using Python. \n",
    "#I’ll start this task by importing the necessary Python libraries and the dataset:"
   ]
  },
  {
   "cell_type": "code",
   "execution_count": 4,
   "id": "d6a91541",
   "metadata": {},
   "outputs": [],
   "source": [
    "sales=pd.read_csv(r\"C:\\Users\\ShreeyaKavali\\OneDrive\\Desktop\\New folder\\Advertising.csv\")"
   ]
  },
  {
   "cell_type": "code",
   "execution_count": 5,
   "id": "dcfb604e",
   "metadata": {},
   "outputs": [
    {
     "data": {
      "text/html": [
       "<div>\n",
       "<style scoped>\n",
       "    .dataframe tbody tr th:only-of-type {\n",
       "        vertical-align: middle;\n",
       "    }\n",
       "\n",
       "    .dataframe tbody tr th {\n",
       "        vertical-align: top;\n",
       "    }\n",
       "\n",
       "    .dataframe thead th {\n",
       "        text-align: right;\n",
       "    }\n",
       "</style>\n",
       "<table border=\"1\" class=\"dataframe\">\n",
       "  <thead>\n",
       "    <tr style=\"text-align: right;\">\n",
       "      <th></th>\n",
       "      <th>Unnamed: 0</th>\n",
       "      <th>TV</th>\n",
       "      <th>Radio</th>\n",
       "      <th>Newspaper</th>\n",
       "      <th>Sales</th>\n",
       "    </tr>\n",
       "  </thead>\n",
       "  <tbody>\n",
       "    <tr>\n",
       "      <th>0</th>\n",
       "      <td>1</td>\n",
       "      <td>230.1</td>\n",
       "      <td>37.8</td>\n",
       "      <td>69.2</td>\n",
       "      <td>22.1</td>\n",
       "    </tr>\n",
       "    <tr>\n",
       "      <th>1</th>\n",
       "      <td>2</td>\n",
       "      <td>44.5</td>\n",
       "      <td>39.3</td>\n",
       "      <td>45.1</td>\n",
       "      <td>10.4</td>\n",
       "    </tr>\n",
       "    <tr>\n",
       "      <th>2</th>\n",
       "      <td>3</td>\n",
       "      <td>17.2</td>\n",
       "      <td>45.9</td>\n",
       "      <td>69.3</td>\n",
       "      <td>9.3</td>\n",
       "    </tr>\n",
       "    <tr>\n",
       "      <th>3</th>\n",
       "      <td>4</td>\n",
       "      <td>151.5</td>\n",
       "      <td>41.3</td>\n",
       "      <td>58.5</td>\n",
       "      <td>18.5</td>\n",
       "    </tr>\n",
       "    <tr>\n",
       "      <th>4</th>\n",
       "      <td>5</td>\n",
       "      <td>180.8</td>\n",
       "      <td>10.8</td>\n",
       "      <td>58.4</td>\n",
       "      <td>12.9</td>\n",
       "    </tr>\n",
       "  </tbody>\n",
       "</table>\n",
       "</div>"
      ],
      "text/plain": [
       "   Unnamed: 0     TV  Radio  Newspaper  Sales\n",
       "0           1  230.1   37.8       69.2   22.1\n",
       "1           2   44.5   39.3       45.1   10.4\n",
       "2           3   17.2   45.9       69.3    9.3\n",
       "3           4  151.5   41.3       58.5   18.5\n",
       "4           5  180.8   10.8       58.4   12.9"
      ]
     },
     "execution_count": 5,
     "metadata": {},
     "output_type": "execute_result"
    }
   ],
   "source": [
    "sales.head()"
   ]
  },
  {
   "cell_type": "code",
   "execution_count": 6,
   "id": "c01cd491",
   "metadata": {},
   "outputs": [
    {
     "data": {
      "text/plain": [
       "Unnamed: 0    0\n",
       "TV            0\n",
       "Radio         0\n",
       "Newspaper     0\n",
       "Sales         0\n",
       "dtype: int64"
      ]
     },
     "execution_count": 6,
     "metadata": {},
     "output_type": "execute_result"
    }
   ],
   "source": [
    "sales.isnull().sum()"
   ]
  },
  {
   "cell_type": "code",
   "execution_count": 16,
   "id": "a9cdf62f",
   "metadata": {},
   "outputs": [],
   "source": [
    "#So this dataset does not contain any null values. \n",
    "#Now let’s take a look at the correlation between features before we start \n",
    "#training a machine learning model to predict future sales:"
   ]
  },
  {
   "cell_type": "code",
   "execution_count": 7,
   "id": "c449715e",
   "metadata": {},
   "outputs": [
    {
     "name": "stderr",
     "output_type": "stream",
     "text": [
      "C:\\Users\\ShreeyaKavali\\AppData\\Local\\Temp\\ipykernel_21124\\1700929030.py:1: MatplotlibDeprecationWarning: The seaborn styles shipped by Matplotlib are deprecated since 3.6, as they no longer correspond to the styles shipped by seaborn. However, they will remain available as 'seaborn-v0_8-<style>'. Alternatively, directly use the seaborn API instead.\n",
      "  plt.style.use('seaborn-whitegrid')\n"
     ]
    },
    {
     "data": {
      "image/png": "[encoded data removed]",
      "text/plain": [
       "<Figure size 1300x900 with 2 Axes>"
      ]
     },
     "metadata": {},
     "output_type": "display_data"
    }
   ],
   "source": [
    "plt.style.use('seaborn-whitegrid')\n",
    "plt.figure(figsize=(13,9))\n",
    "sns.heatmap(sales.corr())\n",
    "plt.show()"
   ]
  },
  {
   "cell_type": "code",
   "execution_count": 17,
   "id": "4a76ce9c",
   "metadata": {},
   "outputs": [],
   "source": [
    "#Now let’s prepare the data to fit into a machine learning model and \n",
    "#then I will use a linear regression algorithm to train a sales prediction model using Python:"
   ]
  },
  {
   "cell_type": "code",
   "execution_count": 11,
   "id": "d4ea5959",
   "metadata": {},
   "outputs": [
    {
     "name": "stderr",
     "output_type": "stream",
     "text": [
      "C:\\Users\\ShreeyaKavali\\AppData\\Local\\Temp\\ipykernel_21124\\984207689.py:1: FutureWarning: In a future version of pandas all arguments of DataFrame.drop except for the argument 'labels' will be keyword-only.\n",
      "  x=np.array(sales.drop(['Sales'],1))\n"
     ]
    }
   ],
   "source": [
    "x=np.array(sales.drop(['Sales'],1))\n",
    "y=np.array(sales[\"Sales\"])\n",
    "xtrain, xtest, ytrain, ytest=train_test_split(x, y, test_size=0.2,random_state=42)\n",
    "model=LinearRegression()\n",
    "model.fit(xtrain,ytrain)\n",
    "pred_y=model.predict(xtest)"
   ]
  },
  {
   "cell_type": "code",
   "execution_count": 14,
   "id": "687dc3bf",
   "metadata": {},
   "outputs": [
    {
     "name": "stdout",
     "output_type": "stream",
     "text": [
      "    Sales Predicted\n",
      "0         16.412277\n",
      "1         20.843193\n",
      "2         21.511869\n",
      "3         10.653100\n",
      "4         22.124058\n",
      "5         13.123835\n",
      "6         21.037489\n",
      "7          7.503854\n",
      "8         13.647870\n",
      "9         15.120409\n",
      "10         9.020556\n",
      "11         6.706666\n",
      "12        14.401551\n",
      "13         8.886090\n",
      "14         9.743533\n",
      "15        12.215520\n",
      "16         8.713709\n",
      "17        16.294145\n",
      "18        10.268023\n",
      "19        18.804982\n",
      "20        19.588647\n",
      "21        13.223183\n",
      "22        12.364787\n",
      "23        21.314736\n",
      "24         7.797347\n",
      "25         5.781900\n",
      "26        20.749348\n",
      "27        11.954767\n",
      "28         9.199109\n",
      "29         8.521787\n",
      "30        12.404313\n",
      "31         9.948652\n",
      "32        21.368803\n",
      "33        12.253748\n",
      "34        18.299435\n",
      "35        20.133474\n",
      "36        14.074646\n",
      "37        20.885947\n",
      "38        11.052150\n",
      "39         4.551687\n"
     ]
    }
   ],
   "source": [
    "sales=pd.DataFrame(data={\"Sales Predicted\": pred_y.flatten()})\n",
    "print(sales)"
   ]
  },
  {
   "cell_type": "code",
   "execution_count": 18,
   "id": "7974e991",
   "metadata": {},
   "outputs": [],
   "source": [
    "#So this is how we can predict future sales of a product with machine learning.\n",
    "#Forecasting sales is a difficult problem for every type of business but using Machine Learning makes it look easy. \n",
    "#I liked this task of forecasting sales with machine learning using Python."
   ]
  },
  {
   "cell_type": "code",
   "execution_count": null,
   "id": "8c1e1882",
   "metadata": {},
   "outputs": [],
   "source": []
  }
 ],
 "metadata": {
  "kernelspec": {
   "display_name": "Python 3 (ipykernel)",
   "language": "python",
   "name": "python3"
  },
  "language_info": {
   "codemirror_mode": {
    "name": "ipython",
    "version": 3
   },
   "file_extension": ".py",
   "mimetype": "text/x-python",
   "name": "python",
   "nbconvert_exporter": "python",
   "pygments_lexer": "ipython3",
   "version": "3.11.3"
  }
 },
 "nbformat": 4,
 "nbformat_minor": 5
}
